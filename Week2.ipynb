{
 "cells": [
  {
   "cell_type": "markdown",
   "id": "f9c1c213-5827-48fc-b016-f6a1a3c9eebe",
   "metadata": {},
   "source": [
    "# Project 8"
   ]
  },
  {
   "cell_type": "code",
   "execution_count": 57,
   "id": "dc7ac9d2-90b9-4993-92f6-1e34ae94eeb1",
   "metadata": {},
   "outputs": [
    {
     "name": "stdout",
     "output_type": "stream",
     "text": [
      "\n",
      "--- Menu ---\n",
      "\n",
      "1. to add details\n",
      "2. to view details\n",
      "3. to search by name\n",
      "4. edit a contact\n",
      "5. delete a contact\n",
      "6. exit the program\n",
      "\n"
     ]
    },
    {
     "name": "stdin",
     "output_type": "stream",
     "text": [
      "enter your choice from 1 to 6 1\n",
      "Enter your name himanshu\n",
      "enter your phone number  9876543210\n",
      "Enter your email kebrjk@ehjkrb.com\n"
     ]
    },
    {
     "name": "stdout",
     "output_type": "stream",
     "text": [
      "contacts added successfully\n",
      "\n",
      "--- Menu ---\n",
      "\n",
      "1. to add details\n",
      "2. to view details\n",
      "3. to search by name\n",
      "4. edit a contact\n",
      "5. delete a contact\n",
      "6. exit the program\n",
      "\n"
     ]
    },
    {
     "name": "stdin",
     "output_type": "stream",
     "text": [
      "enter your choice from 1 to 6 2\n"
     ]
    },
    {
     "name": "stdout",
     "output_type": "stream",
     "text": [
      "{'Himanshu': {'phone': 9876543210, 'email': 'kebrjk@ehjkrb.com'}}\n",
      "\n",
      "--- Menu ---\n",
      "\n",
      "1. to add details\n",
      "2. to view details\n",
      "3. to search by name\n",
      "4. edit a contact\n",
      "5. delete a contact\n",
      "6. exit the program\n",
      "\n"
     ]
    },
    {
     "name": "stdin",
     "output_type": "stream",
     "text": [
      "enter your choice from 1 to 6 3\n",
      "enter name himanshu\n"
     ]
    },
    {
     "name": "stdout",
     "output_type": "stream",
     "text": [
      "Himanshu-{'phone': 9876543210, 'email': 'kebrjk@ehjkrb.com'}\n",
      "\n",
      "--- Menu ---\n",
      "\n",
      "1. to add details\n",
      "2. to view details\n",
      "3. to search by name\n",
      "4. edit a contact\n",
      "5. delete a contact\n",
      "6. exit the program\n",
      "\n"
     ]
    },
    {
     "name": "stdin",
     "output_type": "stream",
     "text": [
      "enter your choice from 1 to 6 4\n",
      "enter name himanshu\n"
     ]
    },
    {
     "name": "stdout",
     "output_type": "stream",
     "text": [
      "Himanshu-{'phone': 9876543210, 'email': 'kebrjk@ehjkrb.com'}\n"
     ]
    },
    {
     "name": "stdin",
     "output_type": "stream",
     "text": [
      "enter your phone number  0987654321\n",
      "Enter your email iehsuf@jhs.com\n"
     ]
    },
    {
     "name": "stdout",
     "output_type": "stream",
     "text": [
      "contact has been updated new details are Himanshu-{'phone': 987654321, 'email': 'iehsuf@jhs.com'}\n",
      "\n",
      "--- Menu ---\n",
      "\n",
      "1. to add details\n",
      "2. to view details\n",
      "3. to search by name\n",
      "4. edit a contact\n",
      "5. delete a contact\n",
      "6. exit the program\n",
      "\n"
     ]
    },
    {
     "name": "stdin",
     "output_type": "stream",
     "text": [
      "enter your choice from 1 to 6 5\n",
      "enter name himanshu\n"
     ]
    },
    {
     "name": "stdout",
     "output_type": "stream",
     "text": [
      "Himanshu-{'phone': 987654321, 'email': 'iehsuf@jhs.com'}\n",
      "contact has been deleted\n",
      "\n",
      "--- Menu ---\n",
      "\n",
      "1. to add details\n",
      "2. to view details\n",
      "3. to search by name\n",
      "4. edit a contact\n",
      "5. delete a contact\n",
      "6. exit the program\n",
      "\n"
     ]
    },
    {
     "name": "stdin",
     "output_type": "stream",
     "text": [
      "enter your choice from 1 to 6 6\n"
     ]
    },
    {
     "name": "stdout",
     "output_type": "stream",
     "text": [
      "Exiting the program\n"
     ]
    }
   ],
   "source": [
    "#Contact Book\n",
    "contacts={}\n",
    "\n",
    "while True:\n",
    "    print(\"\\n--- Menu ---\")\n",
    "    print('''\n",
    "1. to add details\n",
    "2. to view details\n",
    "3. to search by name\n",
    "4. edit a contact\n",
    "5. delete a contact\n",
    "6. exit the program\n",
    "''')\n",
    "\n",
    "    choice=int(input(\"enter your choice from 1 to 6\"))\n",
    "    if choice==6:\n",
    "        print(\"Exiting the program\")\n",
    "        break\n",
    "    elif choice==1:\n",
    "            name=input(\"Enter your name\").title()\n",
    "            contact=int(input(\"enter your phone number \"))\n",
    "            email=input(\"Enter your email\")\n",
    "            contacts[name]= {\"phone\":contact, \"email\":email}\n",
    "            print(\"contacts added successfully\")\n",
    "    elif choice==2:\n",
    "            print(f\"{contacts}\")\n",
    "    elif choice==3:\n",
    "        name=input(\"enter name\").title()\n",
    "        if name in contacts:\n",
    "            print(f\"{name}-{contacts[name]}\")\n",
    "        else:\n",
    "            print(\"not found\")\n",
    "    elif choice==4:\n",
    "        name=input(\"enter name\").title()\n",
    "        if name in contacts:\n",
    "            print(f\"{name}-{contacts[name]}\")\n",
    "            contact=int(input(\"enter your phone number \"))\n",
    "            email=input(\"Enter your email\")\n",
    "            contacts[name]= {\"phone\":contact, \"email\":email}\n",
    "            print(f\"contact has been updated new details are {name}-{contacts[name]}\")\n",
    "            \n",
    "        else:\n",
    "            print(\"not found\")\n",
    "            continue\n",
    "    elif choice==5:\n",
    "        name=input(\"enter name\").title()\n",
    "        if name in contacts:\n",
    "            print(f\"{name}-{contacts[name]}\")\n",
    "            del contacts[name]\n",
    "            print(\"contact has been deleted\")\n",
    "        else:\n",
    "            print(\"not found\")\n",
    "\n",
    "    else:\n",
    "        print(\"invalid input please try again\")\n",
    "        continue"
   ]
  },
  {
   "cell_type": "markdown",
   "id": "9298b956-d780-4f2b-8042-4e32d7217f90",
   "metadata": {},
   "source": [
    "# Project 9"
   ]
  },
  {
   "cell_type": "code",
   "execution_count": 11,
   "id": "3be098d7-277e-4ab6-8800-344cc803380d",
   "metadata": {},
   "outputs": [
    {
     "name": "stdout",
     "output_type": "stream",
     "text": [
      "--- menu ---\n",
      "to add item press 1\n",
      "to add multiple item 2\n",
      "to compair item press 3\n",
      "to see available ingrediants press 4\n",
      "to exit program press 5\n"
     ]
    },
    {
     "name": "stdin",
     "output_type": "stream",
     "text": [
      "enter your choice 1\n",
      "availabe item = water\n"
     ]
    },
    {
     "name": "stdout",
     "output_type": "stream",
     "text": [
      "water added successfully, available_ingrediants are ['water']\n",
      "--- menu ---\n",
      "to add item press 1\n",
      "to add multiple item 2\n",
      "to compair item press 3\n",
      "to see available ingrediants press 4\n",
      "to exit program press 5\n"
     ]
    },
    {
     "name": "stdin",
     "output_type": "stream",
     "text": [
      "enter your choice 2\n",
      "availabe items (seperate with ', ') = tomato, rice, salt\n"
     ]
    },
    {
     "name": "stdout",
     "output_type": "stream",
     "text": [
      "['tomato', 'rice', 'salt'] has been added, available_ingrediants are ['water', 'tomato', 'rice', 'salt']\n",
      "--- menu ---\n",
      "to add item press 1\n",
      "to add multiple item 2\n",
      "to compair item press 3\n",
      "to see available ingrediants press 4\n",
      "to exit program press 5\n"
     ]
    },
    {
     "name": "stdin",
     "output_type": "stream",
     "text": [
      "enter your choice 3\n"
     ]
    },
    {
     "name": "stdout",
     "output_type": "stream",
     "text": [
      "{'sweetcorn', 'maggi', 'masala'} are not available\n",
      "{'rice'} are extra items\n",
      "--- menu ---\n",
      "to add item press 1\n",
      "to add multiple item 2\n",
      "to compair item press 3\n",
      "to see available ingrediants press 4\n",
      "to exit program press 5\n"
     ]
    },
    {
     "name": "stdin",
     "output_type": "stream",
     "text": [
      "enter your choice 4\n"
     ]
    },
    {
     "name": "stdout",
     "output_type": "stream",
     "text": [
      "['water', 'tomato', 'rice', 'salt']\n",
      "--- menu ---\n",
      "to add item press 1\n",
      "to add multiple item 2\n",
      "to compair item press 3\n",
      "to see available ingrediants press 4\n",
      "to exit program press 5\n"
     ]
    },
    {
     "name": "stdin",
     "output_type": "stream",
     "text": [
      "enter your choice 5\n"
     ]
    },
    {
     "name": "stdout",
     "output_type": "stream",
     "text": [
      "exiting the program\n"
     ]
    }
   ],
   "source": [
    "#Ingredient Checker\n",
    "recipe_ingredients={\"maggi\",\"masala\",\"sweetcorn\",\"tomato\",\"water\",\"salt\"}\n",
    "\n",
    "available_ingrediants=[]\n",
    "while True:\n",
    "    print(\"--- menu ---\")\n",
    "    print(\"to add item press 1\")\n",
    "    print(\"to add multiple item 2\")\n",
    "    print(\"to compair item press 3\")\n",
    "    print(\"to see available ingrediants press 4\")\n",
    "    print(\"to exit program press 5\")\n",
    "    choice=(input(\"enter your choice\"))\n",
    "    if choice==\"1\":\n",
    "            item=input(\"availabe item =\").lower()\n",
    "            available_ingrediants.append(item)\n",
    "            print(f\"{item} added successfully, available_ingrediants are {available_ingrediants}\")\n",
    "    elif choice==\"2\":\n",
    "        m_item=input(\"availabe items (seperate with ', ') =\").split(\", \")\n",
    "        for i in m_item:\n",
    "            available_ingrediants.append(i)\n",
    "        print(f\"{m_item} has been added, available_ingrediants are {available_ingrediants}\")\n",
    "    elif choice==\"3\":\n",
    "            print(f\"{recipe_ingredients-set(available_ingrediants)} are not available\")\n",
    "            print(f\"{set(available_ingrediants)-recipe_ingredients} are extra items\")\n",
    "    elif choice==\"4\":\n",
    "            print(f\"{available_ingrediants}\")\n",
    "    elif choice==\"5\":\n",
    "            print(\"exiting the program\")\n",
    "            break\n",
    "    else:\n",
    "            print(\"plese try again\")\n",
    "            continue"
   ]
  },
  {
   "cell_type": "markdown",
   "id": "670ce38e-4ab8-4795-85b1-d54b35aa35a1",
   "metadata": {},
   "source": [
    "# Project 10"
   ]
  },
  {
   "cell_type": "code",
   "execution_count": 17,
   "id": "7079dcb7-474a-4873-ad1c-1a2f2f4221c5",
   "metadata": {},
   "outputs": [
    {
     "name": "stdout",
     "output_type": "stream",
     "text": [
      "--- menu ---\n",
      "choice 1 to add note \n",
      "choice 2 to view note \n",
      "choice 3 to delete note \n",
      "choice 4 exit the program\n"
     ]
    },
    {
     "name": "stdin",
     "output_type": "stream",
     "text": [
      "Enter your choice 1\n",
      "enter file name new_notes.txt\n",
      "Enter your note Hello, this is my python program (notes-taking)\n"
     ]
    },
    {
     "name": "stdout",
     "output_type": "stream",
     "text": [
      "note added successfully\n",
      "--- menu ---\n",
      "choice 1 to add note \n",
      "choice 2 to view note \n",
      "choice 3 to delete note \n",
      "choice 4 exit the program\n"
     ]
    },
    {
     "name": "stdin",
     "output_type": "stream",
     "text": [
      "Enter your choice 2\n",
      "enter file name new_notes.txt\n"
     ]
    },
    {
     "name": "stdout",
     "output_type": "stream",
     "text": [
      "Hello, this is my python program (notes-taking)\n",
      "\n",
      "notes viewed\n",
      "--- menu ---\n",
      "choice 1 to add note \n",
      "choice 2 to view note \n",
      "choice 3 to delete note \n",
      "choice 4 exit the program\n"
     ]
    },
    {
     "name": "stdin",
     "output_type": "stream",
     "text": [
      "Enter your choice 3\n",
      "enter file name new_notes.txt\n"
     ]
    },
    {
     "name": "stdout",
     "output_type": "stream",
     "text": [
      "file has been deleted\n",
      "--- menu ---\n",
      "choice 1 to add note \n",
      "choice 2 to view note \n",
      "choice 3 to delete note \n",
      "choice 4 exit the program\n"
     ]
    },
    {
     "name": "stdin",
     "output_type": "stream",
     "text": [
      "Enter your choice 4\n"
     ]
    },
    {
     "name": "stdout",
     "output_type": "stream",
     "text": [
      "exiting the program\n"
     ]
    }
   ],
   "source": [
    "#Note-Taking\n",
    "def delete():\n",
    "    filename=input(\"enter file name\")\n",
    "    with open(filename,\"w\") as file:\n",
    "        pass\n",
    "        print(\"file has been deleted\")\n",
    "\n",
    "\n",
    "def read_note():\n",
    "    filename=input(\"enter file name\")\n",
    "    with open(filename,\"r\") as file:\n",
    "        content=file.read()\n",
    "        if content:\n",
    "            print(content)\n",
    "        else:\n",
    "            print(\"no content found\")\n",
    "    print(\"notes viewed\")\n",
    "\n",
    "def add_note():\n",
    "    filename=input(\"enter file name\")\n",
    "    with open(filename,\"a\") as file:\n",
    "        note=input(\"Enter your note\")\n",
    "        file.write(note+\"\\n\")\n",
    "        print(\"note added successfully\")\n",
    "        \n",
    "while True:\n",
    "    print(\"--- menu ---\")\n",
    "    print(\"choice 1 to add note \")\n",
    "    print(\"choice 2 to view note \")\n",
    "    print(\"choice 3 to delete note \")\n",
    "    print(\"choice 4 exit the program\")\n",
    "\n",
    "    choice=(input(\"Enter your choice\"))\n",
    "    if choice==\"4\":\n",
    "        print(\"exiting the program\")\n",
    "        break\n",
    "    elif choice==\"1\":\n",
    "        add_note()\n",
    "    elif choice==\"2\":\n",
    "        read_note()\n",
    "    elif choice==\"3\":\n",
    "        delete()\n",
    "    else:\n",
    "        print(\"invalid input plese try again\")\n",
    "        continue"
   ]
  },
  {
   "cell_type": "markdown",
   "id": "88b2345a-0da9-4087-91bb-93e7da0d2f01",
   "metadata": {},
   "source": [
    "# Project 11"
   ]
  },
  {
   "cell_type": "code",
   "execution_count": 31,
   "id": "5cf3303d-18bf-4e84-99f5-1d624c9f09e4",
   "metadata": {},
   "outputs": [
    {
     "name": "stdout",
     "output_type": "stream",
     "text": [
      "--- menu ---\n",
      "choice 1 for addition\n",
      "choice 2 for subtraction\n",
      "choice 3 for multiplication\n",
      "choice 4 for division\n",
      "choice 5 to exit program\n"
     ]
    },
    {
     "name": "stdin",
     "output_type": "stream",
     "text": [
      "Enter your choice 1\n",
      "Enter your first value 5\n",
      "Enter your second value 76\n"
     ]
    },
    {
     "name": "stdout",
     "output_type": "stream",
     "text": [
      "addition is 81.0\n",
      "Thank you for using safe calculator \n",
      "--- menu ---\n",
      "choice 1 for addition\n",
      "choice 2 for subtraction\n",
      "choice 3 for multiplication\n",
      "choice 4 for division\n",
      "choice 5 to exit program\n"
     ]
    },
    {
     "name": "stdin",
     "output_type": "stream",
     "text": [
      "Enter your choice 2\n",
      "Enter your first value 5\n",
      "Enter your second value 3\n"
     ]
    },
    {
     "name": "stdout",
     "output_type": "stream",
     "text": [
      "substraction is 2.0\n",
      "Thank you for using safe calculator \n",
      "--- menu ---\n",
      "choice 1 for addition\n",
      "choice 2 for subtraction\n",
      "choice 3 for multiplication\n",
      "choice 4 for division\n",
      "choice 5 to exit program\n"
     ]
    },
    {
     "name": "stdin",
     "output_type": "stream",
     "text": [
      "Enter your choice 3\n",
      "Enter your first value 5\n",
      "Enter your second value 8\n"
     ]
    },
    {
     "name": "stdout",
     "output_type": "stream",
     "text": [
      "multiplication is 40.0\n",
      "Thank you for using safe calculator \n",
      "--- menu ---\n",
      "choice 1 for addition\n",
      "choice 2 for subtraction\n",
      "choice 3 for multiplication\n",
      "choice 4 for division\n",
      "choice 5 to exit program\n"
     ]
    },
    {
     "name": "stdin",
     "output_type": "stream",
     "text": [
      "Enter your choice 4\n",
      "Enter your first value 0\n",
      "Enter your second value 0\n"
     ]
    },
    {
     "name": "stdout",
     "output_type": "stream",
     "text": [
      "devision by zero not allowed\n",
      "Thank you for using safe calculator \n",
      "--- menu ---\n",
      "choice 1 for addition\n",
      "choice 2 for subtraction\n",
      "choice 3 for multiplication\n",
      "choice 4 for division\n",
      "choice 5 to exit program\n"
     ]
    },
    {
     "name": "stdin",
     "output_type": "stream",
     "text": [
      "Enter your choice 4\n",
      "Enter your first value 30\n",
      "Enter your second value 5\n"
     ]
    },
    {
     "name": "stdout",
     "output_type": "stream",
     "text": [
      "division is 6.0\n",
      "Thank you for using safe calculator \n",
      "--- menu ---\n",
      "choice 1 for addition\n",
      "choice 2 for subtraction\n",
      "choice 3 for multiplication\n",
      "choice 4 for division\n",
      "choice 5 to exit program\n"
     ]
    },
    {
     "name": "stdin",
     "output_type": "stream",
     "text": [
      "Enter your choice 5\n"
     ]
    },
    {
     "name": "stdout",
     "output_type": "stream",
     "text": [
      "Exiting program\n",
      "Thank you for using safe calculator \n"
     ]
    }
   ],
   "source": [
    "#safe calculater\n",
    "def addition(x,y):\n",
    "    print(f\"addition is {x+y}\")\n",
    "def substract(x,y):\n",
    "    print(f\"substraction is {x-y}\")\n",
    "def multiply(x,y):\n",
    "    print(f\"multiplication is {x*y}\")\n",
    "def division(x,y):\n",
    "    print(f\"division is {x/y}\")\n",
    "\n",
    "while True:\n",
    "    print(\"--- menu ---\")\n",
    "    print(\"choice 1 for addition\")\n",
    "    print(\"choice 2 for subtraction\")\n",
    "    print(\"choice 3 for multiplication\")\n",
    "    print(\"choice 4 for division\")\n",
    "    print(\"choice 5 to exit program\")\n",
    "    try:\n",
    "        choice=(input(\"Enter your choice\"))\n",
    "        if choice==\"5\":\n",
    "            print(\"Exiting program\")\n",
    "            break\n",
    "        x=float(input(\"Enter your first value\"))\n",
    "        y=float(input(\"Enter your second value\"))\n",
    "        if choice==\"1\":\n",
    "            addition(x,y)\n",
    "        elif choice==\"2\":\n",
    "            substract(x,y)\n",
    "        elif choice==\"3\":\n",
    "            multiply(x,y)\n",
    "        elif choice==\"4\":\n",
    "            division(x,y)\n",
    "        else:\n",
    "            print(\"invalid input plese try again\")\n",
    "            continue\n",
    "    except ZeroDivisionError:\n",
    "            print(\"devision by zero not allowed\")\n",
    "    except ValueError:\n",
    "            print(\"invalid input\")\n",
    "    except Exception as e:\n",
    "        print(f\" unexpexted error {str(e)}\")\n",
    "    finally:\n",
    "        print(\"Thank you for using safe calculator \")\n"
   ]
  },
  {
   "cell_type": "markdown",
   "id": "b28582a2-452e-49ab-884e-8c99c6d6fdbe",
   "metadata": {},
   "source": [
    "# Project 12"
   ]
  },
  {
   "cell_type": "code",
   "execution_count": 39,
   "id": "0b38f2af-9f21-4855-86c5-39afc9edae90",
   "metadata": {},
   "outputs": [
    {
     "name": "stdout",
     "output_type": "stream",
     "text": [
      "\n",
      "---menu---\n",
      "choice 1 kelvin to fahrenheit\n",
      "choice 2 fahrenheit to kelvin\n",
      "choice 3 kelvin to celsius\n",
      "choice 4 celsius to kelvin\n",
      "choice 5 fahrenheit to celsius\n",
      "choice 6 celsius to fahrenheit\n",
      "choice 7 to exit \n"
     ]
    },
    {
     "name": "stdin",
     "output_type": "stream",
     "text": [
      "enter your choice 1\n",
      "enter value in kelvin 1\n"
     ]
    },
    {
     "name": "stdout",
     "output_type": "stream",
     "text": [
      "kelvin to fahrenheit is -457.87f°\n",
      "thank you for using Temperature Converter\n",
      "\n",
      "---menu---\n",
      "choice 1 kelvin to fahrenheit\n",
      "choice 2 fahrenheit to kelvin\n",
      "choice 3 kelvin to celsius\n",
      "choice 4 celsius to kelvin\n",
      "choice 5 fahrenheit to celsius\n",
      "choice 6 celsius to fahrenheit\n",
      "choice 7 to exit \n"
     ]
    },
    {
     "name": "stdin",
     "output_type": "stream",
     "text": [
      "enter your choice 2\n",
      "enter value in fahrenheit 1\n"
     ]
    },
    {
     "name": "stdout",
     "output_type": "stream",
     "text": [
      "fahrenheit to kelvin is 255.93k°\n",
      "thank you for using Temperature Converter\n",
      "\n",
      "---menu---\n",
      "choice 1 kelvin to fahrenheit\n",
      "choice 2 fahrenheit to kelvin\n",
      "choice 3 kelvin to celsius\n",
      "choice 4 celsius to kelvin\n",
      "choice 5 fahrenheit to celsius\n",
      "choice 6 celsius to fahrenheit\n",
      "choice 7 to exit \n"
     ]
    },
    {
     "name": "stdin",
     "output_type": "stream",
     "text": [
      "enter your choice 3\n",
      "enter value in kelvin 1\n"
     ]
    },
    {
     "name": "stdout",
     "output_type": "stream",
     "text": [
      "kelvin to celsius is -272.15c°\n",
      "thank you for using Temperature Converter\n",
      "\n",
      "---menu---\n",
      "choice 1 kelvin to fahrenheit\n",
      "choice 2 fahrenheit to kelvin\n",
      "choice 3 kelvin to celsius\n",
      "choice 4 celsius to kelvin\n",
      "choice 5 fahrenheit to celsius\n",
      "choice 6 celsius to fahrenheit\n",
      "choice 7 to exit \n"
     ]
    },
    {
     "name": "stdin",
     "output_type": "stream",
     "text": [
      "enter your choice 4\n",
      "enter value in celsius 1\n"
     ]
    },
    {
     "name": "stdout",
     "output_type": "stream",
     "text": [
      "celsius to kelvin is 274.15c°\n",
      "thank you for using Temperature Converter\n",
      "\n",
      "---menu---\n",
      "choice 1 kelvin to fahrenheit\n",
      "choice 2 fahrenheit to kelvin\n",
      "choice 3 kelvin to celsius\n",
      "choice 4 celsius to kelvin\n",
      "choice 5 fahrenheit to celsius\n",
      "choice 6 celsius to fahrenheit\n",
      "choice 7 to exit \n"
     ]
    },
    {
     "name": "stdin",
     "output_type": "stream",
     "text": [
      "enter your choice 5\n",
      "enter value in fahrenheit 1\n"
     ]
    },
    {
     "name": "stdout",
     "output_type": "stream",
     "text": [
      "fahrenheit to celsius is -17.22f°\n",
      "thank you for using Temperature Converter\n",
      "\n",
      "---menu---\n",
      "choice 1 kelvin to fahrenheit\n",
      "choice 2 fahrenheit to kelvin\n",
      "choice 3 kelvin to celsius\n",
      "choice 4 celsius to kelvin\n",
      "choice 5 fahrenheit to celsius\n",
      "choice 6 celsius to fahrenheit\n",
      "choice 7 to exit \n"
     ]
    },
    {
     "name": "stdin",
     "output_type": "stream",
     "text": [
      "enter your choice 6\n",
      "enter value in celsius 1\n"
     ]
    },
    {
     "name": "stdout",
     "output_type": "stream",
     "text": [
      "celsius to fahrenheit is 32.56f°\n",
      "thank you for using Temperature Converter\n",
      "\n",
      "---menu---\n",
      "choice 1 kelvin to fahrenheit\n",
      "choice 2 fahrenheit to kelvin\n",
      "choice 3 kelvin to celsius\n",
      "choice 4 celsius to kelvin\n",
      "choice 5 fahrenheit to celsius\n",
      "choice 6 celsius to fahrenheit\n",
      "choice 7 to exit \n"
     ]
    },
    {
     "name": "stdin",
     "output_type": "stream",
     "text": [
      "enter your choice 7\n"
     ]
    },
    {
     "name": "stdout",
     "output_type": "stream",
     "text": [
      "Exiting the program\n"
     ]
    }
   ],
   "source": [
    "#Temperature Converter\n",
    "def kelvin_fahrenheit():\n",
    "    kelvin=float(input(\"enter value in kelvin\"))\n",
    "    fahrenheit=(kelvin-273.15)*(9/5)+32\n",
    "    return(fahrenheit)\n",
    "def fahrenheit_kelvin():\n",
    "    fahrenheit=float(input(\"enter value in fahrenheit\"))\n",
    "    kelvin=(fahrenheit-32) * 5/9 + 273.15\n",
    "    return(kelvin)\n",
    "def kelvin_celsius():\n",
    "    kelvin=float(input(\"enter value in kelvin\"))\n",
    "    celsius=(kelvin-273.15)\n",
    "    return(celsius)\n",
    "def celsius_kelvin():\n",
    "    celsius=float(input(\"enter value in celsius\"))\n",
    "    kelvin=(celsius+273.15)\n",
    "    return(kelvin)\n",
    "def fahrenheit_celsius():\n",
    "    fahrenheit=float(input(\"enter value in fahrenheit\"))\n",
    "    celsius=(fahrenheit-32) * 5/9\n",
    "    return(celsius)\n",
    "def celsius_fahrenheit():\n",
    "    celsius=float(input(\"enter value in celsius\"))\n",
    "    fahrenheit=(celsius* 5/9)+32\n",
    "    return(fahrenheit)\n",
    "def Temperature_Converter():\n",
    "    while True:\n",
    "        print(\"\\n---menu---\")\n",
    "        print(\"choice 1 kelvin to fahrenheit\")\n",
    "        print(\"choice 2 fahrenheit to kelvin\")\n",
    "        print(\"choice 3 kelvin to celsius\")\n",
    "        print(\"choice 4 celsius to kelvin\")\n",
    "        print(\"choice 5 fahrenheit to celsius\")\n",
    "        print(\"choice 6 celsius to fahrenheit\")\n",
    "        print(\"choice 7 to exit \")\n",
    "        choice=(input(\"enter your choice\"))\n",
    "        if choice==\"7\":\n",
    "            print(\"Exiting the program\")\n",
    "            break\n",
    "        if choice in [\"1\",\"2\",\"3\",\"4\",\"5\",\"6\"]:\n",
    "            try:\n",
    "\n",
    "                if choice==\"1\":\n",
    "                    value=kelvin_fahrenheit()\n",
    "                    print(f\"kelvin to fahrenheit is {value:.2f}f°\")\n",
    "                elif choice==\"2\":\n",
    "                    value=fahrenheit_kelvin()\n",
    "                    print(f\"fahrenheit to kelvin is {value:.2f}k°\")\n",
    "                elif choice==\"3\":\n",
    "                    value=kelvin_celsius()\n",
    "                    print(f\"kelvin to celsius is {value:.2f}c°\")\n",
    "                elif choice==\"4\":\n",
    "                    value=celsius_kelvin()\n",
    "                    print(f\"celsius to kelvin is {value:.2f}c°\")\n",
    "                elif choice==\"5\":\n",
    "                    value=fahrenheit_celsius()\n",
    "                    print(f\"fahrenheit to celsius is {value:.2f}f°\")\n",
    "                elif choice==\"6\":\n",
    "                    value=celsius_fahrenheit()\n",
    "                    print(f\"celsius to fahrenheit is {value:.2f}f°\")\n",
    "            except ValueError:\n",
    "                print(\"invalid input\")\n",
    "            finally:\n",
    "                print(\"thank you for using Temperature Converter\")\n",
    "        else:\n",
    "            print(\"invalid input try again \")\n",
    "Temperature_Converter()"
   ]
  },
  {
   "cell_type": "markdown",
   "id": "832771a8-1b41-4677-90a2-01c6f89f5821",
   "metadata": {},
   "source": [
    "# Project 13"
   ]
  },
  {
   "cell_type": "code",
   "execution_count": 48,
   "id": "3c170ad0-dff7-4d58-b166-27ca5a4dea9c",
   "metadata": {},
   "outputs": [
    {
     "name": "stdin",
     "output_type": "stream",
     "text": [
      "to start or continue press y else press any key y\n",
      "enter marks with comal sepration(,) 20,50,99\n"
     ]
    },
    {
     "name": "stdout",
     "output_type": "stream",
     "text": [
      "['20', '50', '99']\n",
      "['F', 'D', 'A']\n",
      "['fail', 'pass', 'pass']\n",
      "Score: 20, Grade: F, Result: fail\n",
      "Score: 50, Grade: D, Result: pass\n",
      "Score: 99, Grade: A, Result: pass\n"
     ]
    },
    {
     "name": "stdin",
     "output_type": "stream",
     "text": [
      "to start or continue press y else press any key n\n"
     ]
    },
    {
     "name": "stdout",
     "output_type": "stream",
     "text": [
      "Thank you for using grade manager\n"
     ]
    }
   ],
   "source": [
    "#Student Grade Manager\n",
    "def grade_manager():\n",
    "    while True:\n",
    "        choice=input(\"to start or continue press y else press any key\")\n",
    "        if choice==\"y\":\n",
    "            marks=input(\"enter marks with comal sepration(,)\").split(\",\")\n",
    "            grades=[\"A\" if int(score)>80 else\n",
    "                    \"B\" if int(score)>60 else\n",
    "                    \"C\" if int(score)>50 else\n",
    "                    \"D\" if int(score)>35 else\n",
    "                    \"F\"\n",
    "                    for score in marks\n",
    "                    ]\n",
    "            print(marks)\n",
    "            print(grades)\n",
    "            pandf=[\"pass\"if int(score)>35 else\n",
    "                   \"fail\"\n",
    "                   for score in marks]\n",
    "            print(pandf)\n",
    "            [print(f\"Score: {s}, Grade: {g}, Result: {r}\") for s, g, r in zip(marks, grades, pandf)]\n",
    "        else:\n",
    "            print(\"Thank you for using grade manager\")\n",
    "            break\n",
    "grade_manager()"
   ]
  },
  {
   "cell_type": "markdown",
   "id": "d0c40ba1-fa6f-4e23-a341-ab510a587a5e",
   "metadata": {},
   "source": [
    "# Project 14"
   ]
  },
  {
   "cell_type": "code",
   "execution_count": 53,
   "id": "e9345056-05cc-4b96-9259-5ff8e0601d98",
   "metadata": {},
   "outputs": [
    {
     "name": "stdin",
     "output_type": "stream",
     "text": [
      "if you want to generate a password press y if not press any key y\n",
      "enter password length 15\n"
     ]
    },
    {
     "name": "stdout",
     "output_type": "stream",
     "text": [
      "generating password...\n",
      "your new password is gNA$4ckR!k3H5Wg\n"
     ]
    },
    {
     "name": "stdin",
     "output_type": "stream",
     "text": [
      "if you want to generate a password press y if not press any key n\n"
     ]
    },
    {
     "name": "stdout",
     "output_type": "stream",
     "text": [
      "exiting the program\n"
     ]
    }
   ],
   "source": [
    "#Random Password Generator\n",
    "import random\n",
    "def random_generator():\n",
    "    characters=\"1234567890qwertyuiopasdfghjklzxcvbnm!@#$%^&*QWERTYUIOPASDFGHJKLZXCVBNM\"\n",
    "    password_length=int(input(\"enter password length\"))\n",
    "    password=''.join(random.choices(characters,k=password_length))\n",
    "    print(\"generating password...\")\n",
    "    print(f\"your new password is {password}\")\n",
    "while True:\n",
    "    choice=input(\"if you want to generate a password press y if not press any key\").lower()\n",
    "    if choice==\"y\":\n",
    "        random_generator()\n",
    "    else:\n",
    "        print(\"exiting the program\")\n",
    "        break"
   ]
  },
  {
   "cell_type": "code",
   "execution_count": null,
   "id": "23f312e3-742e-407a-990b-dfea684a5bf6",
   "metadata": {},
   "outputs": [],
   "source": []
  }
 ],
 "metadata": {
  "kernelspec": {
   "display_name": "Python 3 (ipykernel)",
   "language": "python",
   "name": "python3"
  },
  "language_info": {
   "codemirror_mode": {
    "name": "ipython",
    "version": 3
   },
   "file_extension": ".py",
   "mimetype": "text/x-python",
   "name": "python",
   "nbconvert_exporter": "python",
   "pygments_lexer": "ipython3",
   "version": "3.12.4"
  }
 },
 "nbformat": 4,
 "nbformat_minor": 5
}
