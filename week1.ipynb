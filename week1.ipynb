{
 "cells": [
  {
   "cell_type": "markdown",
   "id": "82595eaf-6c20-4c4c-b174-66db8785b2dd",
   "metadata": {},
   "source": [
    "# Project 1"
   ]
  },
  {
   "cell_type": "code",
   "execution_count": 1,
   "id": "17eb763c-adb9-48de-901e-c82096d4700c",
   "metadata": {},
   "outputs": [
    {
     "name": "stdin",
     "output_type": "stream",
     "text": [
      "Enter your name himanshu\n",
      "Enter your hobby gaming\n"
     ]
    },
    {
     "name": "stdout",
     "output_type": "stream",
     "text": [
      "\n",
      "--- welcome message ---  \n",
      "hello HIMANSHU\n",
      "It's Great to know that you love Gaming\n",
      "get ready to build something amazing today 2025-05-06 14:51:36.902317.\n"
     ]
    }
   ],
   "source": [
    "# Welcome Message Generator\n",
    "from datetime import *\n",
    "\n",
    "name=input(\"Enter your name\").upper()\n",
    "hobby=input(\"Enter your hobby\").title()\n",
    "\n",
    "\n",
    "print(\"\\n--- welcome message ---  \")\n",
    "print(f\"hello {name}\")\n",
    "print(f\"It's Great to know that you love {hobby}\")\n",
    "print(f\"get ready to build something amazing today {datetime.now()}.\")\n"
   ]
  },
  {
   "cell_type": "markdown",
   "id": "61b9bcc3-b9d0-480e-bc3d-0465896e7934",
   "metadata": {},
   "source": [
    "# Project 2"
   ]
  },
  {
   "cell_type": "code",
   "execution_count": 5,
   "id": "ed4c2168-cbe3-4c0b-abab-977b199d1ba1",
   "metadata": {},
   "outputs": [
    {
     "name": "stdin",
     "output_type": "stream",
     "text": [
      "Enter your name himanshu\n",
      "Enter your favorate colour red\n",
      "Enter your birth year 2000\n",
      "Enter your birth month 8\n"
     ]
    },
    {
     "name": "stdout",
     "output_type": "stream",
     "text": [
      "\n",
      "--- personalized Greeting Message\n",
      "Hello, HIMANSHU!👋 \n",
      "You are 24 years old \n",
      "Your favorate colour is red.\n"
     ]
    }
   ],
   "source": [
    "# Personalized Greeting Program\n",
    "import datetime\n",
    "\n",
    "name=input(\"Enter your name\").upper()\n",
    "colour=input(\"Enter your favorate colour\")\n",
    "b_year=int(input(\"Enter your birth year\"))\n",
    "b_month=int(input(\"Enter your birth month\"))\n",
    "\n",
    "c=(datetime.datetime.now())\n",
    "\n",
    "if b_month>(c.month):\n",
    "    c_age=(c.year)-b_year-1\n",
    "else:\n",
    "    c_age=(c.year)-b_year\n",
    "\n",
    "print(\"\\n--- personalized Greeting Message\")\n",
    "print(f\"Hello, {name}!👋 \\nYou are {c_age} years old \\nYour favorate colour is {colour}.\")\n",
    "\n"
   ]
  },
  {
   "cell_type": "markdown",
   "id": "897f8c56-d72c-47d5-8d03-2aee19b60fb7",
   "metadata": {},
   "source": [
    "# Project 3"
   ]
  },
  {
   "cell_type": "code",
   "execution_count": 9,
   "id": "2f7501e0-652a-4df1-aca4-ab76f59a3f0c",
   "metadata": {},
   "outputs": [
    {
     "name": "stdout",
     "output_type": "stream",
     "text": [
      "Menu\n",
      "1. for Addition +\n",
      "2. for Subtraction -\n",
      "3. for Multiplication *\n",
      "4. for Division /\n",
      "5. for Exit\n"
     ]
    },
    {
     "name": "stdin",
     "output_type": "stream",
     "text": [
      "Enter your choice 1\n",
      "Enter first value 5\n",
      "Enter second value 7\n"
     ]
    },
    {
     "name": "stdout",
     "output_type": "stream",
     "text": [
      "Addition is 12.0\n",
      "Menu\n",
      "1. for Addition +\n",
      "2. for Subtraction -\n",
      "3. for Multiplication *\n",
      "4. for Division /\n",
      "5. for Exit\n"
     ]
    },
    {
     "name": "stdin",
     "output_type": "stream",
     "text": [
      "Enter your choice 5\n"
     ]
    },
    {
     "name": "stdout",
     "output_type": "stream",
     "text": [
      "exiting program\n"
     ]
    }
   ],
   "source": [
    "# Calculator\n",
    "def addition(x,y):\n",
    "    print(f\"Addition is {x+y}\")\n",
    "def subtraction(x,y):\n",
    "    print(f\"Subtraction is {x-y}\")\n",
    "def Multiplication(x,y):\n",
    "    print(f\"multiplication is {x*y}\")\n",
    "def division(x,y):\n",
    "    print(f\"division is {x/y}\")\n",
    "\n",
    "def calculator():\n",
    "    while True:\n",
    "        print(\"Menu\")\n",
    "        print(\"1. for Addition +\")\n",
    "        print(\"2. for Subtraction -\")\n",
    "        print(\"3. for Multiplication *\")\n",
    "        print(\"4. for Division /\")\n",
    "        print(\"5. for Exit\")\n",
    "        choice= int(input(\"Enter your choice\"))\n",
    "        if choice==5:\n",
    "            print(\"exiting program\")\n",
    "            break\n",
    "        x=float(input(\"Enter first value\"))\n",
    "        y=float(input(\"Enter second value\"))\n",
    "        if choice==1:\n",
    "            addition(x,y)\n",
    "        elif choice==2:\n",
    "            subtraction(x,y)\n",
    "        elif choice==3:\n",
    "            multiplication(x,y)\n",
    "        elif choice==4:\n",
    "            if y==0:\n",
    "                print(\"division by zero is not allowed\")\n",
    "            else:\n",
    "                division(x,y)\n",
    "        else:\n",
    "            print(\"invalid choice please try again\")\n",
    "\n",
    "calculator()\n"
   ]
  },
  {
   "cell_type": "markdown",
   "id": "7d554da0-7f25-40df-8426-eb945ac827ff",
   "metadata": {},
   "source": [
    "# Project 4"
   ]
  },
  {
   "cell_type": "code",
   "execution_count": 12,
   "id": "c4fdb5a6-8088-4e23-9a89-1e56718e9688",
   "metadata": {},
   "outputs": [
    {
     "name": "stdin",
     "output_type": "stream",
     "text": [
      "to start press y, to stop press n y\n",
      "choice between 2 or 3 2\n",
      "Enter value 1=  2\n",
      "Enter value 2=  5\n"
     ]
    },
    {
     "name": "stdout",
     "output_type": "stream",
     "text": [
      "5 is greater\n"
     ]
    },
    {
     "name": "stdin",
     "output_type": "stream",
     "text": [
      "to start press y, to stop press n n\n"
     ]
    },
    {
     "name": "stdout",
     "output_type": "stream",
     "text": [
      "exiting program\n"
     ]
    }
   ],
   "source": [
    "#Compare Numbers\n",
    "def compare_2_numbers():\n",
    "    val1=int(input(\"Enter value 1= \"))\n",
    "    val2=int(input(\"Enter value 2= \"))\n",
    "    if val1>val2:\n",
    "        print(f\"{val1} is greater\")\n",
    "        if val2==0:\n",
    "            print(f\"other value is zero\")\n",
    "    elif val2>val1:\n",
    "        print(f\"{val2} is greater\")\n",
    "        if val1==0:\n",
    "            print(f\"other value is zero\")\n",
    "    elif val1==val2:\n",
    "        print(\"both are equal\")\n",
    "    else:\n",
    "        print(\"error\")\n",
    "\n",
    "\n",
    "def compare_3_numbers():     \n",
    "    val1=int(input(\"Enter value 1= \"))\n",
    "    val2=int(input(\"Enter value 2= \"))\n",
    "    val3=int(input(\"Enter value 3= \"))\n",
    "    if val1==val2 and val2==val3:\n",
    "        print(\"All are equal\")\n",
    "    elif val1>val2 and val1>val3:\n",
    "        print(f\"{val1} is greater\")\n",
    "    elif val2>val1 and val2>val3:\n",
    "        print(f\"{val2} is greater\")\n",
    "    elif val3>val1 and val3>val2:\n",
    "        print(f\"{val3} is greater\")\n",
    "    if val1==0 or val2==0 or val3==0:\n",
    "        print(\"value has zero\")\n",
    "\n",
    "while True:\n",
    "    choice=input(\"to start press y, to stop press n\")\n",
    "    if choice==\"n\":\n",
    "        print(\"exiting program\")\n",
    "        break\n",
    "    elif choice==\"y\":\n",
    "        number=int(input(\"choice between 2 or 3\"))\n",
    "        if number ==2:\n",
    "            compare_2_numbers()\n",
    "        elif number ==3:\n",
    "            compare_3_numbers()\n",
    "        else:\n",
    "            print(\"invalid input\")\n",
    "    else:\n",
    "        print(\"invalid input please try again\")\n",
    "        continue\n"
   ]
  },
  {
   "cell_type": "markdown",
   "id": "c4c5e5c7-ab8f-42c4-b4b9-480cf6ef491a",
   "metadata": {},
   "source": [
    "# Project 5"
   ]
  },
  {
   "cell_type": "code",
   "execution_count": 18,
   "id": "e452ea38-a117-4662-afd9-a44cc0117e1d",
   "metadata": {},
   "outputs": [
    {
     "name": "stdin",
     "output_type": "stream",
     "text": [
      "Enter start value 5\n",
      "Enter delay speed 2\n"
     ]
    },
    {
     "name": "stdout",
     "output_type": "stream",
     "text": [
      "\n",
      "---- Countdown Start ----\n",
      "5\n",
      "4\n",
      "3\n",
      "2\n",
      "1\n",
      "Countdown Ended🌚\n"
     ]
    }
   ],
   "source": [
    "#Countdown Timer\n",
    "import time\n",
    "def countdown_timer():\n",
    "    start=int(input(\"Enter start value\"))\n",
    "    for i in range (start,0,-1):\n",
    "        time.sleep(1)\n",
    "        print(i)\n",
    "\n",
    "start=int(input(\"Enter start value\"))\n",
    "d_speed=float(input(\"Enter delay speed\"))\n",
    "print(\"\\n---- Countdown Start ----\")\n",
    "while start>0:\n",
    "    print(start)\n",
    "    time.sleep(d_speed)\n",
    "    start-=1\n",
    "print(\"Countdown Ended🌚\")\n"
   ]
  },
  {
   "cell_type": "markdown",
   "id": "926ab723-705c-4967-94c3-958cff9fae54",
   "metadata": {},
   "source": [
    "# Project 6"
   ]
  },
  {
   "cell_type": "code",
   "execution_count": 20,
   "id": "58c867f2-c11f-4210-9d64-3a972bdc646f",
   "metadata": {},
   "outputs": [
    {
     "name": "stdin",
     "output_type": "stream",
     "text": [
      "number of rounds 3\n"
     ]
    },
    {
     "name": "stdout",
     "output_type": "stream",
     "text": [
      "10 - 6\n"
     ]
    },
    {
     "name": "stdin",
     "output_type": "stream",
     "text": [
      "Enter your answer 4\n"
     ]
    },
    {
     "name": "stdout",
     "output_type": "stream",
     "text": [
      "correct answer\n",
      "9 - 7\n"
     ]
    },
    {
     "name": "stdin",
     "output_type": "stream",
     "text": [
      "Enter your answer 2\n"
     ]
    },
    {
     "name": "stdout",
     "output_type": "stream",
     "text": [
      "correct answer\n",
      "7 // 7\n"
     ]
    },
    {
     "name": "stdin",
     "output_type": "stream",
     "text": [
      "Enter your answer 1\n"
     ]
    },
    {
     "name": "stdout",
     "output_type": "stream",
     "text": [
      "correct answer\n",
      "your score is 3 / 3 ,all answers are correct welldone🎊\n"
     ]
    }
   ],
   "source": [
    "# quesrion generator\n",
    "import random\n",
    "def generate_question():\n",
    "    x=random.randint(1,10)\n",
    "    y=random.randint(1,10)\n",
    "    operator=random.choice([\"+\",\"-\",\"*\",\"//\"])\n",
    "    if operator==\"+\":\n",
    "        answer=x+y\n",
    "    elif operator==\"-\":\n",
    "        answer=x-y\n",
    "    elif operator==\"*\":\n",
    "        answer=x*y\n",
    "    elif operator==\"//\":\n",
    "        answer=x//y\n",
    "\n",
    "    return (f\"{x} {operator} {y}\",answer)\n",
    "\n",
    "\n",
    "\n",
    "#quiz game\n",
    "def quiz_game():\n",
    "    \n",
    "    rounds=int(input(\"number of rounds\"))\n",
    "    score=0\n",
    "    for i in range(rounds):\n",
    "        question,correct_answer=generate_question()\n",
    "        print(question)\n",
    "        y_answer=float(input(\"Enter your answer\"))\n",
    "        if y_answer==correct_answer:\n",
    "            print(\"correct answer\")\n",
    "            score +=1\n",
    "        else:\n",
    "            print(f\"incorrect answer correct answer is {correct_answer}\")\n",
    "    if (score/rounds*100)>=100:\n",
    "        print(f\"your score is {score} / {rounds} ,all answers are correct welldone🎊\")\n",
    "    elif (score/rounds*100)>=75:\n",
    "        print(f\"your score is {score} / {rounds} ,welldone🎊\")\n",
    "    elif (score/rounds*100)>=35:\n",
    "        print(f\"your score is {score} / {rounds} ,you can do better😇\")\n",
    "    else:\n",
    "        print(f\"your score is {score} / {rounds} ,Tumse na ho paega 😜\")\n",
    "    \n",
    "    \n",
    "\n",
    "quiz_game()\n"
   ]
  },
  {
   "cell_type": "markdown",
   "id": "7707eb30-4c61-4302-a5c7-2e8e3ef35642",
   "metadata": {},
   "source": [
    "# Project 7"
   ]
  },
  {
   "cell_type": "code",
   "execution_count": 29,
   "id": "7b18240c-37bb-4f49-acd8-84a4a5ab7df9",
   "metadata": {},
   "outputs": [
    {
     "name": "stdout",
     "output_type": "stream",
     "text": [
      " 1- add item \n",
      " 2- remove item \n",
      " 3- view all \n",
      " 4- exit\n"
     ]
    },
    {
     "name": "stdin",
     "output_type": "stream",
     "text": [
      "choice 1/2/3/4 1\n",
      "add to list Apple\n"
     ]
    },
    {
     "name": "stdout",
     "output_type": "stream",
     "text": [
      "add successfully\n",
      " 1- add item \n",
      " 2- remove item \n",
      " 3- view all \n",
      " 4- exit\n"
     ]
    },
    {
     "name": "stdin",
     "output_type": "stream",
     "text": [
      "choice 1/2/3/4 1\n",
      "add to list Banana\n"
     ]
    },
    {
     "name": "stdout",
     "output_type": "stream",
     "text": [
      "add successfully\n",
      " 1- add item \n",
      " 2- remove item \n",
      " 3- view all \n",
      " 4- exit\n"
     ]
    },
    {
     "name": "stdin",
     "output_type": "stream",
     "text": [
      "choice 1/2/3/4 3\n"
     ]
    },
    {
     "name": "stdout",
     "output_type": "stream",
     "text": [
      "1. apple\n",
      "2. banana\n",
      " 1- add item \n",
      " 2- remove item \n",
      " 3- view all \n",
      " 4- exit\n"
     ]
    },
    {
     "name": "stdin",
     "output_type": "stream",
     "text": [
      "choice 1/2/3/4 2\n",
      "item to remove Apple\n"
     ]
    },
    {
     "name": "stdout",
     "output_type": "stream",
     "text": [
      "remove successfully\n",
      " 1- add item \n",
      " 2- remove item \n",
      " 3- view all \n",
      " 4- exit\n"
     ]
    },
    {
     "name": "stdin",
     "output_type": "stream",
     "text": [
      "choice 1/2/3/4 4\n"
     ]
    },
    {
     "name": "stdout",
     "output_type": "stream",
     "text": [
      "exit program\n"
     ]
    }
   ],
   "source": [
    "#shopping list\n",
    "def add_item(x):\n",
    "        a=input(\"add to list\").strip().lower()\n",
    "        x.append(a)\n",
    "        print(\"add successfully\")\n",
    "\n",
    "def delete_item(x):\n",
    "        removal=input(\"item to remove\").strip().lower()\n",
    "        if removal in x: \n",
    "            x.remove(removal)\n",
    "            print(\"remove successfully\")\n",
    "        else:\n",
    "            print(\"item is not available in list\")\n",
    "            \n",
    "def view_all(x):\n",
    "    if not x:\n",
    "        print(\"list is empty\")\n",
    "    else:\n",
    "        for index,item in enumerate(x,start=1):\n",
    "            print(f\"{index}. {item}\")\n",
    "\n",
    "list1=[]\n",
    "while True:\n",
    "    print(\" 1- add item \\n 2- remove item \\n 3- view all \\n 4- exit\")\n",
    "    choice=int(input(\"choice 1/2/3/4\"))\n",
    "    if choice==1:\n",
    "        add_item(list1)\n",
    "    elif choice==2:\n",
    "        delete_item(list1)\n",
    "\n",
    "    elif choice==3:\n",
    "        view_all(list1)\n",
    "\n",
    "    elif choice==4:\n",
    "        print(\"exit program\")\n",
    "        break\n",
    "    else:\n",
    "        print(\"invalid input please try again\")\n",
    "        continue"
   ]
  }
 ],
 "metadata": {
  "kernelspec": {
   "display_name": "Python 3 (ipykernel)",
   "language": "python",
   "name": "python3"
  },
  "language_info": {
   "codemirror_mode": {
    "name": "ipython",
    "version": 3
   },
   "file_extension": ".py",
   "mimetype": "text/x-python",
   "name": "python",
   "nbconvert_exporter": "python",
   "pygments_lexer": "ipython3",
   "version": "3.12.4"
  }
 },
 "nbformat": 4,
 "nbformat_minor": 5
}
